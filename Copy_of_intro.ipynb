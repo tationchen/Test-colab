{
  "nbformat": 4,
  "nbformat_minor": 0,
  "metadata": {
    "colab": {
      "name": "Copy of intro.ipynb",
      "provenance": [],
      "collapsed_sections": [],
      "authorship_tag": "ABX9TyOK0ykiITCbyaseVc7uo/RA",
      "include_colab_link": true
    },
    "kernelspec": {
      "name": "python3",
      "display_name": "Python 3"
    },
    "language_info": {
      "name": "python"
    }
  },
  "cells": [
    {
      "cell_type": "markdown",
      "metadata": {
        "id": "view-in-github",
        "colab_type": "text"
      },
      "source": [
        "<a href=\"https://colab.research.google.com/github/tationchen/Test-colab/blob/main/Copy_of_intro.ipynb\" target=\"_parent\"><img src=\"https://colab.research.google.com/assets/colab-badge.svg\" alt=\"Open In Colab\"/></a>"
      ]
    },
    {
      "cell_type": "markdown",
      "source": [
        "##Section 1"
      ],
      "metadata": {
        "id": "FZjiyir7G1QV"
      }
    },
    {
      "cell_type": "code",
      "execution_count": null,
      "metadata": {
        "colab": {
          "base_uri": "https://localhost:8080/"
        },
        "id": "asWmPfZTDr4x",
        "outputId": "eb39cd07-6099-4bba-d14a-8ca08d6e9392"
      },
      "outputs": [
        {
          "output_type": "stream",
          "name": "stdout",
          "text": [
            "Hello world\n"
          ]
        }
      ],
      "source": [
        "print(\"Hello world\")"
      ]
    },
    {
      "cell_type": "code",
      "source": [
        "print('Hello testcolab')"
      ],
      "metadata": {
        "id": "n2xLxilkEQo3",
        "outputId": "f2f4d1a0-65f4-4ce1-93e2-5580e65f5849",
        "colab": {
          "base_uri": "https://localhost:8080/"
        }
      },
      "execution_count": null,
      "outputs": [
        {
          "output_type": "stream",
          "name": "stdout",
          "text": [
            "Hello testcolab\n"
          ]
        }
      ]
    },
    {
      "cell_type": "markdown",
      "source": [
        "##Summary"
      ],
      "metadata": {
        "id": "vlXLddPaG978"
      }
    },
    {
      "cell_type": "code",
      "source": [
        "import numpy as np\n",
        "\n",
        "np.__version__"
      ],
      "metadata": {
        "colab": {
          "base_uri": "https://localhost:8080/",
          "height": 36
        },
        "id": "8bazKIQNG_mK",
        "outputId": "13dd3bcd-ff4e-48f3-86ca-5d03e01d8ba5"
      },
      "execution_count": null,
      "outputs": [
        {
          "output_type": "execute_result",
          "data": {
            "text/plain": [
              "'1.21.6'"
            ],
            "application/vnd.google.colaboratory.intrinsic+json": {
              "type": "string"
            }
          },
          "metadata": {},
          "execution_count": 1
        }
      ]
    },
    {
      "cell_type": "code",
      "source": [
        "np.random.randint(0,10)"
      ],
      "metadata": {
        "colab": {
          "base_uri": "https://localhost:8080/"
        },
        "id": "dSbTvZURHOQN",
        "outputId": "3d829102-20d3-4b55-d1c2-b8b027c9e86c"
      },
      "execution_count": null,
      "outputs": [
        {
          "output_type": "execute_result",
          "data": {
            "text/plain": [
              "3"
            ]
          },
          "metadata": {},
          "execution_count": 3
        }
      ]
    },
    {
      "cell_type": "markdown",
      "source": [
        "!pip install imageai"
      ],
      "metadata": {
        "id": "7ZEl9H6LHaWu"
      }
    },
    {
      "cell_type": "markdown",
      "source": [
        "##Markdown"
      ],
      "metadata": {
        "id": "40viV6bEHeJK"
      }
    },
    {
      "cell_type": "markdown",
      "source": [
        "Examples of *Markdown*  \n",
        "Examples of **Markdown**  \n",
        "Examples of __Markdown__\n",
        "Examples of 'Markdown'  \n",
        "'''\n",
        "Examples of Markdown\n",
        "'''"
      ],
      "metadata": {
        "id": "R4CRgNbwHj4p"
      }
    },
    {
      "cell_type": "markdown",
      "source": [
        ">Python\n",
        ">>Code"
      ],
      "metadata": {
        "id": "tlkreM7jH77S"
      }
    },
    {
      "cell_type": "markdown",
      "source": [
        "An ordered list:  \n",
        "1.One  \n",
        "2.Two  \n",
        "3.Three  \n"
      ],
      "metadata": {
        "id": "6CLhCyUGIE88"
      }
    },
    {
      "cell_type": "markdown",
      "source": [
        "An unordered list:  \n",
        "*One  \n",
        "*Two  \n",
        "*Three  "
      ],
      "metadata": {
        "id": "XxqCrw3gISuj"
      }
    },
    {
      "cell_type": "markdown",
      "source": [
        "[Google](https://www.google.com/)"
      ],
      "metadata": {
        "id": "qLAouamwIaBd"
      }
    },
    {
      "cell_type": "markdown",
      "source": [
        "![Python](https://th.bing.com/th/id/OIP.EDJ9xoErBbZqK2tExVoJfAHaHY?w=190&h=189&c=7&r=0&o=5&dpr=1.3&pid=1.7)"
      ],
      "metadata": {
        "id": "WSf0NRtzIj4R"
      }
    },
    {
      "cell_type": "markdown",
      "source": [
        "$y=x^2$  \n",
        "$\\frac{1}{n}\\sum_{i=1}^{n}x_{i}$"
      ],
      "metadata": {
        "id": "cpVZy1uPI2mO"
      }
    },
    {
      "cell_type": "markdown",
      "source": [
        "$A=\\begin{pmatrix}\n",
        "a_{1,1}&a_{1,2}\\\\\n",
        "a_{2,1}&a_{2,2}\\\\\n",
        "a_{3,1}&a_{3,2}\n",
        "\\end{pmatrix}$"
      ],
      "metadata": {
        "id": "X3VL0kImJRmQ"
      }
    },
    {
      "cell_type": "markdown",
      "source": [
        "Col1|col2|col3  \n",
        "---|---|---|  \n",
        "val1|val2|val3"
      ],
      "metadata": {
        "id": "n0gYEqrJJ18M"
      }
    }
  ]
}